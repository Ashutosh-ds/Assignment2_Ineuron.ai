{
 "cells": [
  {
   "cell_type": "markdown",
   "metadata": {},
   "source": [
    "# 1.1  \n",
    " \n",
    "Write a Python Program to implement your own myreduce() function which works exactly like Python's built-in function reduce() \n"
   ]
  },
  {
   "cell_type": "code",
   "execution_count": 2,
   "metadata": {},
   "outputs": [
    {
     "data": {
      "text/plain": [
       "21"
      ]
     },
     "execution_count": 2,
     "metadata": {},
     "output_type": "execute_result"
    }
   ],
   "source": [
    "def my_reduce(fun,sequence):\n",
    "    result=sequence[0]\n",
    "    for item in sequence[1:]:\n",
    "        result=fun(result,item)\n",
    "    return result\n",
    "def sum(x,y):\n",
    "    return x+y\n",
    "my_reduce(sum,[1,2,3,4,5,6])"
   ]
  },
  {
   "cell_type": "markdown",
   "metadata": {},
   "source": [
    "# 1.2  \n",
    " \n",
    "Write a Python program to implement your own myfilter() function which works exactly like Python's built-in function filter() "
   ]
  },
  {
   "cell_type": "code",
   "execution_count": 1,
   "metadata": {},
   "outputs": [
    {
     "name": "stdout",
     "output_type": "stream",
     "text": [
      "the numbers filtered using myfilter fn are: [-2, -23, -64]\n"
     ]
    }
   ],
   "source": [
    "def myfilter(fun,sequence):\n",
    "    result=[]\n",
    "    for item in sequence:\n",
    "        if fun(item):\n",
    "            result.append(item)\n",
    "    return result\n",
    "def is_negative(x):\n",
    "    if (x<0):\n",
    "        return True\n",
    "    else:\n",
    "        return False\n",
    "print(\"the numbers filtered using myfilter fn are: \" + str(myfilter(is_negative,[6,-2,12,46,-23,-64])))\n"
   ]
  },
  {
   "cell_type": "markdown",
   "metadata": {},
   "source": [
    "# 2.  \n",
    " \n",
    "Implement List comprehensions to produce the following lists. \n",
    " \n",
    "Write List comprehensions to produce the following Lists \n",
    " \n",
    "['A', 'C', 'A', 'D', 'G', 'I', ’L’, ‘ D’] \n",
    " \n",
    "['x', 'xx', 'xxx', 'xxxx', 'y', 'yy', 'yyy', 'yyyy', 'z', 'zz', 'zzz', 'zzzz'] \n",
    " \n",
    "['x', 'y', 'z', 'xx', 'yy', 'zz', 'xx', 'yy', 'zz', 'xxxx', 'yyyy', 'zzzz'] \n",
    " \n",
    "[[2], [3], [4], [3], [4], [5], [4], [5], [6]] \n",
    " \n",
    "[[2, 3, 4, 5], [3, 4, 5, 6], [4, 5, 6, 7], [5, 6, 7, 8]] \n",
    " \n",
    "[(1, 1), (2, 1), (3, 1), (1, 2), (2, 2), (3, 2), (1, 3), (2, 3), (3, 3)]   "
   ]
  },
  {
   "cell_type": "code",
   "execution_count": 7,
   "metadata": {},
   "outputs": [
    {
     "data": {
      "text/plain": [
       "['A', 'C', 'A', 'D', 'G', 'I', 'L', 'D']"
      ]
     },
     "execution_count": 7,
     "metadata": {},
     "output_type": "execute_result"
    }
   ],
   "source": [
    "alphabet = [letter for letter in \"ACADGILD\"]\n",
    "alphabet\n"
   ]
  },
  {
   "cell_type": "code",
   "execution_count": 8,
   "metadata": {},
   "outputs": [
    {
     "name": "stdout",
     "output_type": "stream",
     "text": [
      "['x', 'xx', 'xxx', 'xxxx', 'y', 'yy', 'yyy', 'yyyy', 'z', 'zz', 'zzz', 'zzzz']\n"
     ]
    }
   ],
   "source": [
    "letter = ['x','y','z']\n",
    "alpha=[i*num for i in letter for num in range(1,5)]\n",
    "print(str(alpha))"
   ]
  },
  {
   "cell_type": "code",
   "execution_count": 10,
   "metadata": {},
   "outputs": [
    {
     "data": {
      "text/plain": [
       "['x', 'xx', 'xxx', 'xxxx', 'y', 'yy', 'yyy', 'yyyy', 'z', 'zz', 'zzz', 'zzzz']"
      ]
     },
     "execution_count": 10,
     "metadata": {},
     "output_type": "execute_result"
    }
   ],
   "source": [
    "letter = ['x','y','z']\n",
    "alpha= [i*num for i in letter for num in range(1,5)]\n",
    "alpha"
   ]
  },
  {
   "cell_type": "code",
   "execution_count": 13,
   "metadata": {},
   "outputs": [
    {
     "data": {
      "text/plain": [
       "['x', 'y', 'z', 'xx', 'yy', 'zz', 'xxx', 'yyy', 'zzz', 'xxxx', 'yyyy', 'zzzz']"
      ]
     },
     "execution_count": 13,
     "metadata": {},
     "output_type": "execute_result"
    }
   ],
   "source": [
    "alpha =['x','y','z']\n",
    "pattern=[i*num for num in range(1,5) for i in letter]\n",
    "pattern"
   ]
  },
  {
   "cell_type": "code",
   "execution_count": 15,
   "metadata": {},
   "outputs": [
    {
     "data": {
      "text/plain": [
       "[[2], [3], [4], [3], [4], [5], [4], [5], [6]]"
      ]
     },
     "execution_count": 15,
     "metadata": {},
     "output_type": "execute_result"
    }
   ],
   "source": [
    "alpha=[2,3,4]\n",
    "pattern=[[i+num] for i in range (0,3) for num in alpha]\n",
    "pattern"
   ]
  },
  {
   "cell_type": "code",
   "execution_count": 17,
   "metadata": {},
   "outputs": [
    {
     "data": {
      "text/plain": [
       "[[2, 3, 4, 5], [3, 4, 5, 6], [4, 5, 6, 7], [5, 6, 7, 8]]"
      ]
     },
     "execution_count": 17,
     "metadata": {},
     "output_type": "execute_result"
    }
   ],
   "source": [
    "alpha=[2,3,4,5]\n",
    "pattern=[[i+num for i in range(0,4)] for num in alpha]\n",
    "pattern"
   ]
  },
  {
   "cell_type": "code",
   "execution_count": 18,
   "metadata": {},
   "outputs": [
    {
     "data": {
      "text/plain": [
       "[(1, 1), (2, 1), (3, 1), (1, 2), (2, 2), (3, 2), (1, 3), (2, 3), (3, 3)]"
      ]
     },
     "execution_count": 18,
     "metadata": {},
     "output_type": "execute_result"
    }
   ],
   "source": [
    "alpha=[1,2,3]\n",
    "pattern=[(b,a)for a in alpha for b in alpha]\n",
    "pattern"
   ]
  },
  {
   "cell_type": "markdown",
   "metadata": {},
   "source": [
    "#  3.  \n",
    " \n",
    "Implement a function longestWord() that takes a list of words and returns the longest one# "
   ]
  },
  {
   "cell_type": "code",
   "execution_count": 46,
   "metadata": {},
   "outputs": [
    {
     "name": "stdout",
     "output_type": "stream",
     "text": [
      "Jiwitesh\n"
     ]
    }
   ],
   "source": [
    "words=['Ashutosh','Abhishek','Harish','Jiwitesh']\n",
    "def l_word(iterables):\n",
    "    length=''\n",
    "    for i in iterables:\n",
    "        length1=i\n",
    "        \n",
    "        if len(length)>len(length1):\n",
    "            length=length\n",
    "        else:\n",
    "            length=length1\n",
    "            \n",
    "    return length\n",
    "result= l_word(words)\n",
    "print(result)\n"
   ]
  },
  {
   "cell_type": "markdown",
   "metadata": {},
   "source": [
    "# Task 2: \n",
    " \n",
    " \n",
    "1.1  \n",
    " \n",
    "Write a Python Program(with class concepts) to find the area of the triangle using the below formula. \n",
    " \n",
    "area = (s*(s-a)*(s-b)*(s-c)) ** 0.5 \n",
    " \n",
    "Function to take the length of the sides of triangle from user should be defined in the parent class and function to calculate the area should be defined in subclass. "
   ]
  },
  {
   "cell_type": "code",
   "execution_count": 3,
   "metadata": {},
   "outputs": [
    {
     "name": "stdout",
     "output_type": "stream",
     "text": [
      "Enter side 1:8\n",
      "Enter side 2:8\n",
      "Enter side 3:8\n",
      "Enter semi perimeter:13\n",
      "Area of Triangle is: 40.31\n"
     ]
    }
   ],
   "source": [
    "class sides:\n",
    "    \n",
    "    def __init__(self,a,b,c,s):\n",
    "        self.a=a\n",
    "        self.b=b\n",
    "        self.c=c\n",
    "        self.s=s\n",
    "        \n",
    "class area(sides):\n",
    "    def __init__(self,a,b,c,s):\n",
    "        super().__init__(a,b,c,s)\n",
    "        \n",
    "    def triangle(self):\n",
    "        result = (s*(s-a)*(s-b)*(s-c)) ** 0.5\n",
    "        print(\"Area of Triangle is:\",round(result,2))\n",
    "            \n",
    "a=int(input('Enter side 1:'))\n",
    "b=int(input('Enter side 2:'))\n",
    "c=int(input('Enter side 3:'))\n",
    "s=int(input('Enter semi perimeter:')) \n",
    "\n",
    "s1=area(a,b,c,s)\n",
    "s1.triangle()\n",
    "\n",
    "            \n",
    "            \n",
    "            "
   ]
  },
  {
   "cell_type": "markdown",
   "metadata": {},
   "source": [
    "# 1.2 \n",
    " \n",
    "Write a function filter_long_words() that takes a list of words and an integer n and returns the list of words that are longer than n. "
   ]
  },
  {
   "cell_type": "code",
   "execution_count": 8,
   "metadata": {},
   "outputs": [
    {
     "name": "stdout",
     "output_type": "stream",
     "text": [
      "enter the number: 4\n",
      "enter the no you want to compare elements with: 6\n",
      "ashu\n",
      "jiwitesh\n",
      "suhdanshu\n",
      "Tanya\n",
      "['jiwitesh', 'suhdanshu']\n"
     ]
    }
   ],
   "source": [
    "words=[]\n",
    "a=int(input(\"enter the number: \"))\n",
    "b=int(input('enter the no you want to compare elements with: '))\n",
    "def filter_long_words(words):\n",
    "    for i in range(0,a):\n",
    "        ele=str(input(''))\n",
    "        words.append(ele)\n",
    "    \n",
    "    for j in words:\n",
    "        if len(j)<b:\n",
    "            words.remove(j)\n",
    "        \n",
    "    return words\n",
    "\n",
    "result=filter_long_words(words)\n",
    "print (result)    \n",
    "\n"
   ]
  },
  {
   "cell_type": "markdown",
   "metadata": {},
   "source": [
    "# 2.1 \n",
    " \n",
    "Write a Python program using function concept that maps  list of words into a list of integers representing the lengths of the corresponding words​. \n",
    " Hint: ​If a list [ ab,cde,erty] is passed on to the python function output should come as [2,3,4] \n",
    " Here 2,3 and 4 are the lengths of the words in the list. "
   ]
  },
  {
   "cell_type": "code",
   "execution_count": 14,
   "metadata": {},
   "outputs": [
    {
     "name": "stdout",
     "output_type": "stream",
     "text": [
      "[4, 9, 8]\n"
     ]
    }
   ],
   "source": [
    "words=[\"Ashu\",\"Sudhanshu\",\"Jiwitesh\"]\n",
    "def convert(a):\n",
    "    return len(a)\n",
    "    \n",
    "s= list(map(convert,words))\n",
    "print(s)"
   ]
  },
  {
   "cell_type": "markdown",
   "metadata": {},
   "source": [
    "#  2.2 \n",
    " \n",
    "Write a Python function which takes a character (i.e. a string of length 1) and returns True if it is a vowel, False otherwise. "
   ]
  },
  {
   "cell_type": "code",
   "execution_count": 2,
   "metadata": {},
   "outputs": [
    {
     "name": "stdout",
     "output_type": "stream",
     "text": [
      "Enter a word to check vowels:fe\n",
      "Letter should not exceed more than 1 word\n",
      "Enter a word to check vowels:e\n",
      "True\n"
     ]
    }
   ],
   "source": [
    "letter=['a','e','i','o','u']\n",
    "def vowel(letter):\n",
    "    while True:\n",
    "        a= input(\"Enter a word to check vowels:\")\n",
    "        if len(a)==1:\n",
    "            if a in letter:\n",
    "                print(\"True\")\n",
    "                break\n",
    "            else:\n",
    "                print(\"False Try again\")\n",
    "                continue\n",
    "        else:\n",
    "            print(\"Letter should not exceed more than 1 word\")\n",
    "            continue\n",
    "vowel(letter)"
   ]
  },
  {
   "cell_type": "code",
   "execution_count": null,
   "metadata": {},
   "outputs": [],
   "source": []
  }
 ],
 "metadata": {
  "kernelspec": {
   "display_name": "Python 3",
   "language": "python",
   "name": "python3"
  },
  "language_info": {
   "codemirror_mode": {
    "name": "ipython",
    "version": 3
   },
   "file_extension": ".py",
   "mimetype": "text/x-python",
   "name": "python",
   "nbconvert_exporter": "python",
   "pygments_lexer": "ipython3",
   "version": "3.6.5"
  }
 },
 "nbformat": 4,
 "nbformat_minor": 2
}
